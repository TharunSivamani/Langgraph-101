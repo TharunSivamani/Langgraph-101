{
 "cells": [
  {
   "cell_type": "code",
   "execution_count": 1,
   "id": "72e58bf3",
   "metadata": {},
   "outputs": [],
   "source": [
    "from typing import TypedDict, List, Union\n",
    "from langchain_core.messages import HumanMessage, AIMessage\n",
    "from langchain_ollama import ChatOllama\n",
    "from langgraph.graph import StateGraph, START, END"
   ]
  },
  {
   "cell_type": "code",
   "execution_count": 2,
   "id": "397779a5",
   "metadata": {},
   "outputs": [],
   "source": [
    "class AgentState(TypedDict):\n",
    "    messages: List[Union[HumanMessage, AIMessage]]"
   ]
  },
  {
   "cell_type": "code",
   "execution_count": 3,
   "id": "1a14d0cf",
   "metadata": {},
   "outputs": [],
   "source": [
    "llm = ChatOllama(model=\"llama3.2:1b\")"
   ]
  },
  {
   "cell_type": "code",
   "execution_count": 4,
   "id": "1a363f9f",
   "metadata": {},
   "outputs": [],
   "source": [
    "def process(state: AgentState) -> AgentState:\n",
    "    \"\"\" \n",
    "    This node will solve the request you input\n",
    "    \"\"\"\n",
    "    response = llm.invoke(state['messages'])\n",
    "\n",
    "    state['messages'].append(AIMessage(content=response.content))\n",
    "    print(f\"\\nAI Response: {response.content}\")\n",
    "\n",
    "    return state"
   ]
  },
  {
   "cell_type": "code",
   "execution_count": 5,
   "id": "bf2da428",
   "metadata": {},
   "outputs": [],
   "source": [
    "graph = StateGraph(AgentState)\n",
    "graph.add_node(\"process\", process)\n",
    "graph.add_edge(START, \"process\")\n",
    "graph.add_edge(\"process\", END)\n",
    "\n",
    "agent = graph.compile()"
   ]
  },
  {
   "cell_type": "code",
   "execution_count": 6,
   "id": "1f92779d",
   "metadata": {},
   "outputs": [
    {
     "name": "stdout",
     "output_type": "stream",
     "text": [
      "Human Question:  Hi\n",
      "\n",
      "AI Response: Hello. Is there something I can help you with or would you like to chat?\n",
      "\n",
      "AI Response: Nice to meet you, Steve. Is there something on your mind that you'd like to talk about, or are you just looking for some conversation?\n",
      "\n",
      "AI Response: Steve, you're a person who's interacting with me right now. You've mentioned your name a few times, and we've been chatting about various topics. I'm here to help answer any questions you have or simply chat with you. Is there something specific you'd like to talk about or ask?\n"
     ]
    }
   ],
   "source": [
    "conversation_history = []\n",
    "\n",
    "user_input = input(\"Enter: \")\n",
    "print(\"Human Question: \", user_input)\n",
    "while user_input != \"exit\":\n",
    "    conversation_history.append(HumanMessage(content=user_input))\n",
    "\n",
    "    result = agent.invoke({\"messages\": conversation_history})\n",
    "\n",
    "    # print(result['messages'])\n",
    "    conversation_history = result['messages']\n",
    "\n",
    "    user_input = input(\"Enter:\")\n",
    "\n",
    "# print(conversation_history)"
   ]
  }
 ],
 "metadata": {
  "kernelspec": {
   "display_name": "pytorch",
   "language": "python",
   "name": "python3"
  },
  "language_info": {
   "codemirror_mode": {
    "name": "ipython",
    "version": 3
   },
   "file_extension": ".py",
   "mimetype": "text/x-python",
   "name": "python",
   "nbconvert_exporter": "python",
   "pygments_lexer": "ipython3",
   "version": "3.10.14"
  }
 },
 "nbformat": 4,
 "nbformat_minor": 5
}
