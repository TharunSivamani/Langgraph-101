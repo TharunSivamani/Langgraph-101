{
 "cells": [
  {
   "cell_type": "code",
   "execution_count": 1,
   "id": "c8e6267f",
   "metadata": {},
   "outputs": [],
   "source": [
    "from typing import TypedDict, List\n",
    "from langgraph.graph import StateGraph "
   ]
  },
  {
   "cell_type": "code",
   "execution_count": 2,
   "id": "6f780360",
   "metadata": {},
   "outputs": [],
   "source": [
    "class AgentState(TypedDict):\n",
    "    name: str\n",
    "    values: List[int]\n",
    "    operation: str\n",
    "    result: str"
   ]
  },
  {
   "cell_type": "code",
   "execution_count": 3,
   "id": "e8e65d46",
   "metadata": {},
   "outputs": [],
   "source": [
    "import math\n",
    "\n",
    "def apply_operation(state: AgentState) -> AgentState:\n",
    "    \"\"\" \n",
    "    This function will apply the operation on the values list with the given name as placeholder\n",
    "    \"\"\"\n",
    "\n",
    "    if state['operation'] == '+':\n",
    "        state['result'] = f\"Hi {state['name']}, your answer is: {sum(state['values'])}.\"\n",
    "    elif state['operation'] == '*':\n",
    "        product = math.prod(state['values'])\n",
    "        state['result'] = f\"Hi {state['name']}, your answer is: {product}.\"\n",
    "    else:\n",
    "        state['result'] = \"Unsupported operation.\"\n",
    "    \n",
    "    return state"
   ]
  },
  {
   "cell_type": "code",
   "execution_count": 4,
   "id": "fa67d67b",
   "metadata": {},
   "outputs": [],
   "source": [
    "graph = StateGraph(AgentState)\n",
    "\n",
    "graph.add_node(\"operations_node\", apply_operation)\n",
    "\n",
    "graph.set_entry_point(\"operations_node\")\n",
    "graph.set_finish_point(\"operations_node\")\n",
    "\n",
    "app = graph.compile()"
   ]
  },
  {
   "cell_type": "code",
   "execution_count": 5,
   "id": "71cac513",
   "metadata": {},
   "outputs": [
    {
     "data": {
      "image/png": "[encoded data removed]",
      "text/plain": [
       "<IPython.core.display.Image object>"
      ]
     },
     "metadata": {},
     "output_type": "display_data"
    }
   ],
   "source": [
    "from IPython.display import Image, display\n",
    "display(Image(app.get_graph().draw_mermaid_png()))"
   ]
  },
  {
   "cell_type": "code",
   "execution_count": 6,
   "id": "40dffbaa",
   "metadata": {},
   "outputs": [],
   "source": [
    "answers_add = app.invoke({\"name\": \"Steve\", \"values\": [1,2,3,4], \"operation\": \"+\"})"
   ]
  },
  {
   "cell_type": "code",
   "execution_count": 7,
   "id": "854bdcec",
   "metadata": {},
   "outputs": [
    {
     "data": {
      "text/plain": [
       "{'name': 'Steve',\n",
       " 'values': [1, 2, 3, 4],\n",
       " 'operation': '+',\n",
       " 'result': 'Hi Steve, your answer is: 10.'}"
      ]
     },
     "execution_count": 7,
     "metadata": {},
     "output_type": "execute_result"
    }
   ],
   "source": [
    "answers_add"
   ]
  },
  {
   "cell_type": "code",
   "execution_count": 8,
   "id": "f7911ce1",
   "metadata": {},
   "outputs": [],
   "source": [
    "answers_mul = app.invoke({\"name\": \"Steve\", \"values\": [1,2,3,4], \"operation\": \"*\"})"
   ]
  },
  {
   "cell_type": "code",
   "execution_count": 9,
   "id": "929b7ec2",
   "metadata": {},
   "outputs": [
    {
     "data": {
      "text/plain": [
       "{'name': 'Steve',\n",
       " 'values': [1, 2, 3, 4],\n",
       " 'operation': '*',\n",
       " 'result': 'Hi Steve, your answer is: 24.'}"
      ]
     },
     "execution_count": 9,
     "metadata": {},
     "output_type": "execute_result"
    }
   ],
   "source": [
    "answers_mul"
   ]
  },
  {
   "cell_type": "code",
   "execution_count": 10,
   "id": "a739013c",
   "metadata": {},
   "outputs": [],
   "source": [
    "answers_error = app.invoke({\"name\": \"Steve\", \"values\": [1,2,3,4], \"operation\": \"-\"})"
   ]
  },
  {
   "cell_type": "code",
   "execution_count": 11,
   "id": "739145bb",
   "metadata": {},
   "outputs": [
    {
     "data": {
      "text/plain": [
       "{'name': 'Steve',\n",
       " 'values': [1, 2, 3, 4],\n",
       " 'operation': '-',\n",
       " 'result': 'Unsupported operation.'}"
      ]
     },
     "execution_count": 11,
     "metadata": {},
     "output_type": "execute_result"
    }
   ],
   "source": [
    "answers_error"
   ]
  }
 ],
 "metadata": {
  "kernelspec": {
   "display_name": "pytorch",
   "language": "python",
   "name": "python3"
  },
  "language_info": {
   "codemirror_mode": {
    "name": "ipython",
    "version": 3
   },
   "file_extension": ".py",
   "mimetype": "text/x-python",
   "name": "python",
   "nbconvert_exporter": "python",
   "pygments_lexer": "ipython3",
   "version": "3.10.14"
  }
 },
 "nbformat": 4,
 "nbformat_minor": 5
}
